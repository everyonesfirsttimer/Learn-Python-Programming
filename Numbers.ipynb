{
 "cells": [
  {
   "cell_type": "markdown",
   "metadata": {},
   "source": [
    "# Number"
   ]
  },
  {
   "cell_type": "markdown",
   "metadata": {},
   "source": [
    "#### Numeric Types"
   ]
  },
  {
   "cell_type": "markdown",
   "metadata": {},
   "source": [
    "It is used to store numeric values. For example: a = 5, b = 10, amount = 15,000 etc.\n",
    "\n",
    "Python supports three different types of numbers, listed as follows:\n",
    "\n",
    "Int (integers)\n",
    "Float (decimal numbers)\n",
    "Complex (complex numbers)\n",
    "\n",
    "Integers are positive or negative whole numbers with no decimal point. For example: 1 and 5 are integers.\n",
    "\n",
    "Floats are numbers containing a decimal point (.). For example: 4.3 Note that numbers written in a scientific notation such as 3.14∗10^3 are float number because it contains a decimal point in the notation.\n",
    "\n",
    "Python also provides support for complex numbers of the form x+yJ, where x and y are floats and J's value is the square root of minus 1. Its real part is x and the imaginary part is y."
   ]
  },
  {
   "cell_type": "code",
   "execution_count": null,
   "metadata": {},
   "outputs": [],
   "source": [
    "a = 3"
   ]
  },
  {
   "cell_type": "code",
   "execution_count": null,
   "metadata": {},
   "outputs": [],
   "source": [
    "b = 5.3"
   ]
  },
  {
   "cell_type": "code",
   "execution_count": null,
   "metadata": {},
   "outputs": [],
   "source": [
    "c = 2 + 3J"
   ]
  },
  {
   "cell_type": "code",
   "execution_count": null,
   "metadata": {},
   "outputs": [],
   "source": [
    "type(c)"
   ]
  },
  {
   "cell_type": "markdown",
   "metadata": {},
   "source": [
    "integers can have infinte length where as floating point numbers are accurate upto 15 decimmal points"
   ]
  },
  {
   "cell_type": "code",
   "execution_count": null,
   "metadata": {},
   "outputs": [],
   "source": []
  },
  {
   "cell_type": "markdown",
   "metadata": {},
   "source": [
    "Type Conversion\n",
    "During data manipulation, there might arise a need for converting an integer to float, float to an integer, float to a string, or splitting on a decimal point in a float. Let's look at how you can do this.\n",
    "\n",
    "Let's say you have number x. The following are some common operations:\n",
    "\n",
    "int(x) converts it to an integer.\n",
    "\n",
    "float(x) converts it to a float.\n",
    "\n",
    "complex(x) converts it to a complex number with real part x and imaginary part 0.\n",
    "\n",
    "*You can delete a number object x by simply typing del x."
   ]
  },
  {
   "cell_type": "code",
   "execution_count": null,
   "metadata": {},
   "outputs": [],
   "source": [
    "x = 3.6"
   ]
  },
  {
   "cell_type": "code",
   "execution_count": null,
   "metadata": {},
   "outputs": [],
   "source": [
    "y = int(x)"
   ]
  },
  {
   "cell_type": "code",
   "execution_count": null,
   "metadata": {},
   "outputs": [],
   "source": [
    "print(y)"
   ]
  },
  {
   "cell_type": "code",
   "execution_count": null,
   "metadata": {},
   "outputs": [],
   "source": [
    "print(x)"
   ]
  },
  {
   "cell_type": "code",
   "execution_count": null,
   "metadata": {},
   "outputs": [],
   "source": [
    "complex(x)"
   ]
  },
  {
   "cell_type": "code",
   "execution_count": null,
   "metadata": {},
   "outputs": [],
   "source": [
    "type(y)"
   ]
  },
  {
   "cell_type": "code",
   "execution_count": null,
   "metadata": {},
   "outputs": [],
   "source": [
    "float(y)"
   ]
  },
  {
   "cell_type": "code",
   "execution_count": null,
   "metadata": {},
   "outputs": [],
   "source": []
  },
  {
   "cell_type": "code",
   "execution_count": null,
   "metadata": {},
   "outputs": [],
   "source": []
  },
  {
   "cell_type": "code",
   "execution_count": null,
   "metadata": {},
   "outputs": [],
   "source": []
  },
  {
   "cell_type": "code",
   "execution_count": null,
   "metadata": {},
   "outputs": [],
   "source": []
  },
  {
   "cell_type": "markdown",
   "metadata": {},
   "source": [
    "# Common Numeric Operations"
   ]
  },
  {
   "cell_type": "markdown",
   "metadata": {},
   "source": [
    "+           Addition\n",
    "\n",
    "-           Subtraction\n",
    "\n",
    "*           Multiplication\n",
    "\n",
    "/           Division -  Divides left hand operand by right hand operand\n",
    "\n",
    "//          Integer division (Floor division) (returns only integer part of quotient)\n",
    "\n",
    "**          Exponentiation - left hand operand raise to right hand operand\n",
    "\n",
    "%           Modulus - Divides left hand operand by right hand operand and returns remainder\n",
    " \n",
    "abs(x)      Absolute value\n"
   ]
  },
  {
   "cell_type": "code",
   "execution_count": 1,
   "metadata": {},
   "outputs": [
    {
     "name": "stdout",
     "output_type": "stream",
     "text": [
      "2.5    Data Type of a: <class 'float'>\n"
     ]
    }
   ],
   "source": [
    "a = 2.5\n",
    "print(a, \"   Data Type of a:\", type(a))"
   ]
  },
  {
   "cell_type": "code",
   "execution_count": 2,
   "metadata": {},
   "outputs": [
    {
     "name": "stdout",
     "output_type": "stream",
     "text": [
      "8    Data Type of b: <class 'int'>\n"
     ]
    }
   ],
   "source": [
    "b = 8\n",
    "print(b, \"   Data Type of b:\", type(b))"
   ]
  },
  {
   "cell_type": "code",
   "execution_count": 3,
   "metadata": {},
   "outputs": [
    {
     "name": "stdout",
     "output_type": "stream",
     "text": [
      "Addition  10.5    Data type of c <class 'float'>\n"
     ]
    }
   ],
   "source": [
    "c = a+b\n",
    "print (\"Addition \",c, \"   Data type of c\",type(c))"
   ]
  },
  {
   "cell_type": "code",
   "execution_count": null,
   "metadata": {},
   "outputs": [],
   "source": []
  },
  {
   "cell_type": "code",
   "execution_count": 4,
   "metadata": {},
   "outputs": [
    {
     "name": "stdout",
     "output_type": "stream",
     "text": [
      "Substraction -5.5\n"
     ]
    }
   ],
   "source": [
    "print(\"Substraction\",a-b)"
   ]
  },
  {
   "cell_type": "code",
   "execution_count": 5,
   "metadata": {},
   "outputs": [
    {
     "name": "stdout",
     "output_type": "stream",
     "text": [
      "Multiplication 20.0\n"
     ]
    }
   ],
   "source": [
    "print(\"Multiplication\",a*b)"
   ]
  },
  {
   "cell_type": "code",
   "execution_count": 6,
   "metadata": {},
   "outputs": [
    {
     "name": "stdout",
     "output_type": "stream",
     "text": [
      "division 3.2\n"
     ]
    }
   ],
   "source": [
    "print(\"division\",b/a)"
   ]
  },
  {
   "cell_type": "code",
   "execution_count": 7,
   "metadata": {},
   "outputs": [
    {
     "name": "stdout",
     "output_type": "stream",
     "text": [
      "This is floor division 3.0\n"
     ]
    }
   ],
   "source": [
    "print('This is floor division', b//a)"
   ]
  },
  {
   "cell_type": "code",
   "execution_count": 8,
   "metadata": {},
   "outputs": [
    {
     "name": "stdout",
     "output_type": "stream",
     "text": [
      "Modulus retuns remainder of division 0.5\n"
     ]
    }
   ],
   "source": [
    "print('Modulus retuns remainder of division', b%a)"
   ]
  },
  {
   "cell_type": "code",
   "execution_count": 9,
   "metadata": {},
   "outputs": [
    {
     "name": "stdout",
     "output_type": "stream",
     "text": [
      " b raise to the power a: b^a =  181.01933598375618\n"
     ]
    }
   ],
   "source": [
    "print(\" b raise to the power a: b^a = \", b**a)"
   ]
  },
  {
   "cell_type": "code",
   "execution_count": null,
   "metadata": {},
   "outputs": [],
   "source": []
  },
  {
   "cell_type": "code",
   "execution_count": 12,
   "metadata": {},
   "outputs": [],
   "source": [
    "m = -6.7"
   ]
  },
  {
   "cell_type": "code",
   "execution_count": 13,
   "metadata": {},
   "outputs": [
    {
     "name": "stdout",
     "output_type": "stream",
     "text": [
      "Asolute value or Magnitude of m is:  6.7\n"
     ]
    }
   ],
   "source": [
    "print('Asolute value or Magnitude of m is: ', abs(m))"
   ]
  },
  {
   "cell_type": "code",
   "execution_count": null,
   "metadata": {},
   "outputs": [],
   "source": []
  },
  {
   "cell_type": "code",
   "execution_count": null,
   "metadata": {},
   "outputs": [],
   "source": []
  },
  {
   "cell_type": "code",
   "execution_count": null,
   "metadata": {},
   "outputs": [],
   "source": []
  },
  {
   "cell_type": "markdown",
   "metadata": {},
   "source": [
    "#####  A small assignment for you guys"
   ]
  },
  {
   "cell_type": "markdown",
   "metadata": {},
   "source": [
    "write a short program to calculate area and perimeter of triangle and volume of a cylinder"
   ]
  },
  {
   "cell_type": "markdown",
   "metadata": {},
   "source": [
    "Solution in next video"
   ]
  }
 ],
 "metadata": {
  "kernelspec": {
   "display_name": "Python 3",
   "language": "python",
   "name": "python3"
  },
  "language_info": {
   "codemirror_mode": {
    "name": "ipython",
    "version": 3
   },
   "file_extension": ".py",
   "mimetype": "text/x-python",
   "name": "python",
   "nbconvert_exporter": "python",
   "pygments_lexer": "ipython3",
   "version": "3.7.1"
  }
 },
 "nbformat": 4,
 "nbformat_minor": 2
}
